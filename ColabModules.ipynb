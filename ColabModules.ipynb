{
  "nbformat": 4,
  "nbformat_minor": 0,
  "metadata": {
    "colab": {
      "name": "ColabModules.ipynb",
      "version": "0.3.2",
      "provenance": [],
      "collapsed_sections": []
    },
    "kernelspec": {
      "name": "python3",
      "display_name": "Python 3"
    }
  },
  "cells": [
    {
      "cell_type": "markdown",
      "metadata": {
        "id": "view-in-github",
        "colab_type": "text"
      },
      "source": [
        "[View in Colaboratory](https://colab.research.google.com/github/idleuncle/Colab/blob/master/ColabModules.ipynb)"
      ]
    },
    {
      "metadata": {
        "id": "1JR5_mmCH9kr",
        "colab_type": "text"
      },
      "cell_type": "markdown",
      "source": [
        "# Colab Modules"
      ]
    },
    {
      "metadata": {
        "id": "Y5nRVJ5ZHyyB",
        "colab_type": "code",
        "colab": {}
      },
      "cell_type": "code",
      "source": [
        "def foo():\n",
        "  print('foo')"
      ],
      "execution_count": 0,
      "outputs": []
    },
    {
      "metadata": {
        "id": "wmOTdEsWIEBJ",
        "colab_type": "code",
        "colab": {}
      },
      "cell_type": "code",
      "source": [
        ""
      ],
      "execution_count": 0,
      "outputs": []
    }
  ]
}