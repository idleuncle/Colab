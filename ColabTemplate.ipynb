{
  "nbformat": 4,
  "nbformat_minor": 0,
  "metadata": {
    "colab": {
      "name": "ColabTemplate.ipynb",
      "version": "0.3.2",
      "provenance": [],
      "collapsed_sections": [],
      "include_colab_link": true
    },
    "kernelspec": {
      "name": "python3",
      "display_name": "Python 3"
    },
    "accelerator": "GPU"
  },
  "cells": [
    {
      "cell_type": "markdown",
      "metadata": {
        "id": "view-in-github",
        "colab_type": "text"
      },
      "source": [
        "[View in Colaboratory](https://colab.research.google.com/github/idleuncle/Colab/blob/master/ColabTemplate.ipynb)"
      ]
    },
    {
      "metadata": {
        "id": "RJziTwRVHfpz",
        "colab_type": "text"
      },
      "cell_type": "markdown",
      "source": [
        "# Colab Template\n",
        "\n"
      ]
    },
    {
      "metadata": {
        "id": "9TFiYMU9cxXz",
        "colab_type": "text"
      },
      "cell_type": "markdown",
      "source": [
        "## 一、Colab 环境准备\n",
        "\n",
        "1. 在Colab中打开ColabTemplate.ipynb，另存为你的项目MyProject.ipynb并打开。\n",
        "\n",
        "2. \"Colab 环境准备\" 完成以下工作，只需要项目打开 时执行一次。\n",
        "\n",
        "    - 安装系统依赖\n",
        "\n",
        "    - 授权登录 Google Drive\n",
        "\n",
        "    - 安装 Colab 编程环境支持包 (IpynbImporter.py, [ColabModules.ipynb](https://colab.research.google.com/drive/1IMv93f2bMYhrx2lfL3cmDBI7kmjCMy01#scrollTo=VyDM84dOxu18))\n",
        "    \n",
        "3. 修改并保存ColabModules.ipynb后，执行“下载 Colab 编程环境支持包”及“导入 Colab 编程环境支持包”。\n",
        "\n",
        "drive变量指向登录的Google Drive。"
      ]
    },
    {
      "metadata": {
        "id": "jIZcTrsFVJw0",
        "colab_type": "text"
      },
      "cell_type": "markdown",
      "source": [
        "### 1.1 授权登录Google Drive"
      ]
    },
    {
      "metadata": {
        "id": "UmVckKTzISJZ",
        "colab_type": "text"
      },
      "cell_type": "markdown",
      "source": [
        "#### 第一次授权登录Google Drive"
      ]
    },
    {
      "metadata": {
        "id": "dTLcxx_AVNo0",
        "colab_type": "code",
        "colab": {}
      },
      "cell_type": "code",
      "source": [
        "# 安装 PyDrive 操作库，该操作每个 notebook 只需要执行一次\n",
        "!pip install -U -q PyDrive\n",
        "\n",
        "from pydrive.auth import GoogleAuth\n",
        "from pydrive.drive import GoogleDrive\n",
        "from google.colab import auth\n",
        "from oauth2client.client import GoogleCredentials\n",
        "\n",
        "def google_drive_login():\n",
        "  # 授权登录，仅第一次的时候会鉴权\n",
        "  auth.authenticate_user()\n",
        "  gauth = GoogleAuth()\n",
        "  gauth.credentials = GoogleCredentials.get_application_default()\n",
        "  drive = GoogleDrive(gauth)\n",
        "  return drive\n",
        "\n",
        "drive = google_drive_login()"
      ],
      "execution_count": 0,
      "outputs": []
    },
    {
      "metadata": {
        "id": "6Shy_-Y2IaTT",
        "colab_type": "text"
      },
      "cell_type": "markdown",
      "source": [
        "#### 第二次授权映射Google Drive至本地driver目录"
      ]
    },
    {
      "metadata": {
        "id": "6K-Lqa-AnaF5",
        "colab_type": "code",
        "colab": {}
      },
      "cell_type": "code",
      "source": [
        "!apt-get install -y -qq software-properties-common python-software-properties module-init-tools\n",
        "!add-apt-repository -y ppa:alessandro-strada/ppa 2>&1 > /dev/null\n",
        "!apt-get update -qq 2>&1 > /dev/null\n",
        "!apt-get -y install -qq google-drive-ocamlfuse fuse\n",
        "\n",
        "from google.colab import auth\n",
        "auth.authenticate_user()\n",
        "from oauth2client.client import GoogleCredentials\n",
        "\n",
        "creds = GoogleCredentials.get_application_default()"
      ],
      "execution_count": 0,
      "outputs": []
    },
    {
      "metadata": {
        "id": "wvd9DiXvojev",
        "colab_type": "code",
        "colab": {}
      },
      "cell_type": "code",
      "source": [
        "import getpass\n",
        "!google-drive-ocamlfuse -headless -id={creds.client_id} -secret={creds.client_secret} < /dev/null 2>&1 | grep URL\n",
        "vcode = getpass.getpass()\n",
        "!echo {vcode} | google-drive-ocamlfuse -headless -id={creds.client_id} -secret={creds.client_secret}"
      ],
      "execution_count": 0,
      "outputs": []
    },
    {
      "metadata": {
        "id": "MWRoI2tlodDr",
        "colab_type": "code",
        "colab": {}
      },
      "cell_type": "code",
      "source": [
        "!mkdir -p drive\n",
        "!google-drive-ocamlfuse drive\n",
        "!ls -lt drive"
      ],
      "execution_count": 0,
      "outputs": []
    },
    {
      "metadata": {
        "id": "GAsd62uhVV9g",
        "colab_type": "text"
      },
      "cell_type": "markdown",
      "source": [
        "### 1.2 下载 Colab 编程环境支持包"
      ]
    },
    {
      "metadata": {
        "id": "ufRo_PUAVW7x",
        "colab_type": "code",
        "colab": {}
      },
      "cell_type": "code",
      "source": [
        "import os\n",
        "def google_drive_download_files(drive, file_name_prefix, colab_dir=\".\", overwrite=True):\n",
        "  # choose a local (colab) directory to store the data.\n",
        "  local_download_path = os.path.expanduser(colab_dir)\n",
        "  try:\n",
        "    os.makedirs(local_download_path)\n",
        "  except: pass\n",
        "\n",
        "  # 2. Auto-iterate using the query syntax\n",
        "  #    https://developers.google.com/drive/v2/web/search-parameters\n",
        "  file_list = drive.ListFile(\n",
        "      {'q': \"title contains '%s'\" % (file_name_prefix) }).GetList()\n",
        "\n",
        "  files_dict = {}\n",
        "  for f in file_list:\n",
        "    # 3. Create & download by id.\n",
        "    print('title: %s, id: %s' % (f['title'], f['id']))\n",
        "    fname = os.path.join(local_download_path, f['title'])\n",
        "    if overwrite or not os.path.exists(fname):\n",
        "      print('downloading to {}'.format(fname))\n",
        "      f_ = drive.CreateFile({'id': f['id']})\n",
        "      f_.GetContentFile(fname)\n",
        "      print('Download Completed!')\n",
        "    files_dict[ f['title'] ] = fname\n",
        "\n",
        "  # with open(fname, 'r') as f:\n",
        "  #   print(f.read())\n",
        "  return files_dict, local_download_path\n",
        "\n",
        "# 修改完ColabModles.ipynb后，执行以下命令，(并在项目中执行菜单项 Runtime/Restart runtime ???)\n",
        "google_drive_download_files(drive, 'IpynbImporter.py')\n",
        "google_drive_download_files(drive, 'ColabModules.ipynb')\n",
        "\n",
        "!ls -lt\n"
      ],
      "execution_count": 0,
      "outputs": []
    },
    {
      "metadata": {
        "id": "oha223wVcarf",
        "colab_type": "text"
      },
      "cell_type": "markdown",
      "source": [
        "### 1.3 导入Colab基础编程环境支持包"
      ]
    },
    {
      "metadata": {
        "id": "VAZFrZ1acWh5",
        "colab_type": "code",
        "colab": {}
      },
      "cell_type": "code",
      "source": [
        "import IpynbImporter\n",
        "from ColabModules import *\n",
        "\n",
        "colab_ready()\n",
        "\n",
        "!hostname\n",
        "!ls -lt"
      ],
      "execution_count": 0,
      "outputs": []
    },
    {
      "metadata": {
        "id": "wi1hQH26I6Or",
        "colab_type": "text"
      },
      "cell_type": "markdown",
      "source": [
        "## 二、开始研究代码"
      ]
    },
    {
      "metadata": {
        "id": "JIlKt6kQVqhL",
        "colab_type": "code",
        "colab": {}
      },
      "cell_type": "code",
      "source": [
        ""
      ],
      "execution_count": 0,
      "outputs": []
    }
  ]
}