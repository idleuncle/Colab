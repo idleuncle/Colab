{
  "nbformat": 4,
  "nbformat_minor": 0,
  "metadata": {
    "colab": {
      "name": "ColabTutorial.ipynb",
      "version": "0.3.2",
      "provenance": [],
      "collapsed_sections": []
    },
    "kernelspec": {
      "name": "python2",
      "display_name": "Python 2"
    },
    "accelerator": "GPU"
  },
  "cells": [
    {
      "cell_type": "markdown",
      "metadata": {
        "id": "view-in-github",
        "colab_type": "text"
      },
      "source": [
        "[View in Colaboratory](https://colab.research.google.com/github/idleuncle/Colab/blob/master/ColabTutorial.ipynb)"
      ]
    },
    {
      "metadata": {
        "id": "PKPo3QxZCqfw",
        "colab_type": "text"
      },
      "cell_type": "markdown",
      "source": [
        "# Colab Tutorial"
      ]
    },
    {
      "metadata": {
        "id": "9ylUiknSC3UR",
        "colab_type": "text"
      },
      "cell_type": "markdown",
      "source": [
        "## 安装依赖"
      ]
    },
    {
      "metadata": {
        "id": "Z5wx89lF6aOu",
        "colab_type": "code",
        "colab": {
          "base_uri": "https://localhost:8080/",
          "height": 339
        },
        "outputId": "00de023d-172b-4dde-a13b-cb5915a219b8"
      },
      "cell_type": "code",
      "source": [
        "\n",
        "!pip install keras\n",
        "!pip install jieba\n",
        "!pip install h5py"
      ],
      "execution_count": 1,
      "outputs": [
        {
          "output_type": "stream",
          "text": [
            "Requirement already satisfied: keras in /usr/local/lib/python2.7/dist-packages (2.1.6)\r\n",
            "Requirement already satisfied: pyyaml in /usr/local/lib/python2.7/dist-packages (from keras) (3.12)\r\n",
            "Requirement already satisfied: h5py in /usr/local/lib/python2.7/dist-packages (from keras) (2.7.1)\r\n",
            "Requirement already satisfied: six>=1.9.0 in /usr/local/lib/python2.7/dist-packages (from keras) (1.11.0)\r\n",
            "Requirement already satisfied: numpy>=1.9.1 in /usr/local/lib/python2.7/dist-packages (from keras) (1.14.3)\r\n",
            "Requirement already satisfied: scipy>=0.14 in /usr/local/lib/python2.7/dist-packages (from keras) (0.19.1)\n",
            "Collecting jieba\n",
            "\u001b[?25l  Downloading https://files.pythonhosted.org/packages/71/46/c6f9179f73b818d5827202ad1c4a94e371a29473b7f043b736b4dab6b8cd/jieba-0.39.zip (7.3MB)\n",
            "\u001b[K    100% |████████████████████████████████| 7.3MB 4.4MB/s \n",
            "\u001b[?25hBuilding wheels for collected packages: jieba\n",
            "  Running setup.py bdist_wheel for jieba ... \u001b[?25l-\b \b\\\b \b|\b \b/\b \b-\b \b\\\b \b|\b \b/\b \bdone\n",
            "\u001b[?25h  Stored in directory: /content/.cache/pip/wheels/c9/c7/63/a9ec0322ccc7c365fd51e475942a82395807186e94f0522243\n",
            "Successfully built jieba\n",
            "Installing collected packages: jieba\n",
            "Successfully installed jieba-0.39\n",
            "Requirement already satisfied: h5py in /usr/local/lib/python2.7/dist-packages (2.7.1)\n",
            "Requirement already satisfied: numpy>=1.7 in /usr/local/lib/python2.7/dist-packages (from h5py) (1.14.3)\n",
            "Requirement already satisfied: six in /usr/local/lib/python2.7/dist-packages (from h5py) (1.11.0)\n"
          ],
          "name": "stdout"
        }
      ]
    },
    {
      "metadata": {
        "id": "0iPBEbe58jLa",
        "colab_type": "code",
        "colab": {}
      },
      "cell_type": "code",
      "source": [
        "import sys, os\n",
        "import h5py\n",
        "import jieba as jb\n",
        "import numpy as np\n",
        "import keras as krs\n",
        "import tensorflow as tf\n",
        "from sklearn.preprocessing import LabelEncoder\n"
      ],
      "execution_count": 0,
      "outputs": []
    },
    {
      "metadata": {
        "id": "5vCZQ5qODDnL",
        "colab_type": "text"
      },
      "cell_type": "markdown",
      "source": [
        "## 加载数据"
      ]
    },
    {
      "metadata": {
        "id": "yVCUVX7mDMe9",
        "colab_type": "text"
      },
      "cell_type": "markdown",
      "source": [
        "### 授权登录"
      ]
    },
    {
      "metadata": {
        "id": "9DVneoUf8pb9",
        "colab_type": "code",
        "colab": {}
      },
      "cell_type": "code",
      "source": [
        "# 安装 PyDrive 操作库，该操作每个 notebook 只需要执行一次\n",
        "!pip install -U -q PyDrive\n",
        "from pydrive.auth import GoogleAuth\n",
        "from pydrive.drive import GoogleDrive\n",
        "from google.colab import auth\n",
        "from oauth2client.client import GoogleCredentials\n",
        "\n",
        "def login_google_drive():\n",
        "  # 授权登录，仅第一次的时候会鉴权\n",
        "  auth.authenticate_user()\n",
        "  gauth = GoogleAuth()\n",
        "  gauth.credentials = GoogleCredentials.get_application_default()\n",
        "  drive = GoogleDrive(gauth)\n",
        "  return drive\n",
        "\n",
        "drive = login_google_drive()"
      ],
      "execution_count": 0,
      "outputs": []
    },
    {
      "metadata": {
        "id": "Be5nPu4QaDwD",
        "colab_type": "text"
      },
      "cell_type": "markdown",
      "source": [
        "### 列出Google Driver上文件"
      ]
    },
    {
      "metadata": {
        "id": "kc8JiTAh8z6o",
        "colab_type": "code",
        "colab": {
          "base_uri": "https://localhost:8080/",
          "height": 188
        },
        "outputId": "2ac21710-415a-4bb2-c51b-aabe6d7bce52"
      },
      "cell_type": "code",
      "source": [
        "def gd_ls(drive):\n",
        "  file_list = drive.ListFile({'q': \"'root' in parents and trashed=false\"}).GetList()\n",
        "  for file1 in file_list:\n",
        "    print('title: %s, id: %s, mimeType: %s' % (file1['title'], file1['id'], file1[\"mimeType\"]))\n",
        "    \n",
        "\n",
        "gd_ls(drive)"
      ],
      "execution_count": 34,
      "outputs": [
        {
          "output_type": "stream",
          "text": [
            "title: design.txt, id: 1OS1BuBHxtJWSvcLiWnsdg1VzxjxokPH3, mimeType: text/plain\n",
            "title: health.txt, id: 1JCAq9rdUD8OsKUtypp70b8gpFminTFmU, mimeType: text/plain\n",
            "title: tech.txt, id: 1YSqi5II82Fkb7bMAeHrhB_ogVcSvdnTs, mimeType: text/plain\n",
            "title: Colab Notebooks, id: 1WZgWzW1T9OWVoxQXHd4mVwJwZApwia6v, mimeType: application/vnd.google-apps.folder\n",
            "title: _Moo.do Files (Do not delete), id: 0BzfMfhiuy0xGdkVER0N2TVRacnc, mimeType: application/vnd.google-apps.folder\n",
            "title: SimpleMind, id: 0BzfMfhiuy0xGMHlqNDJEbGRIUzA, mimeType: application/vnd.google-apps.folder\n",
            "title: Untitled Diagram.html, id: 0BzfMfhiuy0xGakY0UmppZDlkY3M, mimeType: application/vnd.jgraph.mxfile.realtime\n",
            "title: Untitled Diagram.html, id: 0BzfMfhiuy0xGelNkc1lXQ2ZVNTA, mimeType: application/vnd.jgraph.mxfile.realtime\n",
            "title: Untitled Diagram.html, id: 0BzfMfhiuy0xGLVJBRXV4UTdNZ0E, mimeType: application/vnd.jgraph.mxfile.realtime\n"
          ],
          "name": "stdout"
        }
      ]
    },
    {
      "metadata": {
        "id": "KuufRJkXDRbG",
        "colab_type": "text"
      },
      "cell_type": "markdown",
      "source": [
        "### 拷贝Google Drive上文件至Colab"
      ]
    },
    {
      "metadata": {
        "id": "ISFWFsq9XWEz",
        "colab_type": "code",
        "colab": {}
      },
      "cell_type": "code",
      "source": [
        "import os\n",
        "def download_from_google_drive(drive, file_name_prefix, colab_dir=\".\", overwrite=True):\n",
        "  # choose a local (colab) directory to store the data.\n",
        "  local_download_path = os.path.expanduser(colab_dir)\n",
        "  try:\n",
        "    os.makedirs(local_download_path)\n",
        "  except: pass\n",
        "\n",
        "  # 2. Auto-iterate using the query syntax\n",
        "  #    https://developers.google.com/drive/v2/web/search-parameters\n",
        "  file_list = drive.ListFile(\n",
        "      {'q': \"title contains '%s'\" % (file_name_prefix) }).GetList()\n",
        "\n",
        "  files_dict = {}\n",
        "  for f in file_list:\n",
        "    # 3. Create & download by id.\n",
        "    print('title: %s, id: %s' % (f['title'], f['id']))\n",
        "    fname = os.path.join(local_download_path, f['title'])\n",
        "    if overwrite or not os.path.exists(fname):\n",
        "      print('downloading to {}'.format(fname))\n",
        "      f_ = drive.CreateFile({'id': f['id']})\n",
        "      f_.GetContentFile(fname)\n",
        "      print('Download Completed!')\n",
        "    files_dict[ f['title'] ] = fname\n",
        "\n",
        "  # with open(fname, 'r') as f:\n",
        "  #   print(f.read())\n",
        "  return files_dict, local_download_path"
      ],
      "execution_count": 0,
      "outputs": []
    },
    {
      "metadata": {
        "id": "KWKzNbYCXsZ5",
        "colab_type": "code",
        "colab": {
          "base_uri": "https://localhost:8080/",
          "height": 134
        },
        "outputId": "024cf119-712e-4f50-c26a-b58497340eda"
      },
      "cell_type": "code",
      "source": [
        "print(download_from_google_drive(drive, '.py'))"
      ],
      "execution_count": 15,
      "outputs": [
        {
          "output_type": "stream",
          "text": [
            "title: IpynbModules.py, id: 1cpFFQi3aBG_yEuWcKLRxYfvxFxHzY5h3\n",
            "downloading to ./IpynbModules.py\n",
            "Download Completed!\n",
            "title: IpynbImporter.py, id: 1qKLyot96gRiUjxHJMsJXHCgqYAXLx7ZA\n",
            "downloading to ./IpynbImporter.py\n",
            "Download Completed!\n",
            "({u'IpynbModules.py': u'./IpynbModules.py', u'IpynbImporter.py': u'./IpynbImporter.py'}, '.')\n"
          ],
          "name": "stdout"
        }
      ]
    },
    {
      "metadata": {
        "id": "gzFgtZtUBon9",
        "colab_type": "code",
        "colab": {}
      },
      "cell_type": "code",
      "source": [
        "import IpynbImporter\n",
        "sys.meta_path"
      ],
      "execution_count": 0,
      "outputs": []
    },
    {
      "metadata": {
        "id": "BEs8csiyKj-Q",
        "colab_type": "code",
        "colab": {
          "base_uri": "https://localhost:8080/",
          "height": 84
        },
        "outputId": "be00aeac-7d58-4c9b-9e2e-87cfe6ae107b"
      },
      "cell_type": "code",
      "source": [
        "print(download_from_google_drive(drive, 'ColabModules.ipynb'))"
      ],
      "execution_count": 29,
      "outputs": [
        {
          "output_type": "stream",
          "text": [
            "title: ColabModules.ipynb, id: 1IMv93f2bMYhrx2lfL3cmDBI7kmjCMy01\n",
            "downloading to ./ColabModules.ipynb\n",
            "Download Completed!\n",
            "({u'ColabModules.ipynb': u'./ColabModules.ipynb'}, '.')\n"
          ],
          "name": "stdout"
        }
      ]
    },
    {
      "metadata": {
        "id": "VZCkZe-jKYqI",
        "colab_type": "code",
        "colab": {
          "base_uri": "https://localhost:8080/",
          "height": 50
        },
        "outputId": "51726579-dc6e-472b-d383-01ed1f21e66b"
      },
      "cell_type": "code",
      "source": [
        "!ls"
      ],
      "execution_count": 30,
      "outputs": [
        {
          "output_type": "stream",
          "text": [
            "ColabModules.ipynb  IpynbImporter.py   IpynbModules.py\r\n",
            "datalab\t\t    IpynbImporter.pyc  IpynbModules.pyc\r\n"
          ],
          "name": "stdout"
        }
      ]
    },
    {
      "metadata": {
        "id": "sdYn9UGeBxxP",
        "colab_type": "code",
        "colab": {
          "base_uri": "https://localhost:8080/",
          "height": 34
        },
        "outputId": "8c03eb68-114c-445e-c891-75be438a7463"
      },
      "cell_type": "code",
      "source": [
        "import ColabModules\n",
        "ColabModules.foo()"
      ],
      "execution_count": 31,
      "outputs": [
        {
          "output_type": "stream",
          "text": [
            "importing Jupyter notebook from ColabModules.ipynb\n"
          ],
          "name": "stdout"
        }
      ]
    },
    {
      "metadata": {
        "id": "tZTuM-vTYNzK",
        "colab_type": "code",
        "colab": {
          "base_uri": "https://localhost:8080/",
          "height": 67
        },
        "outputId": "60234698-1e7d-4a16-e77c-9c8af971b060"
      },
      "cell_type": "code",
      "source": [
        "with open('/content/IpynbModules.py', 'r') as f:\n",
        "  print(f.read())"
      ],
      "execution_count": 18,
      "outputs": [
        {
          "output_type": "stream",
          "text": [
            "def foo():\n",
            "    print(\"foo\")\n",
            "\n"
          ],
          "name": "stdout"
        }
      ]
    },
    {
      "metadata": {
        "id": "wXeYEKB7DYf5",
        "colab_type": "text"
      },
      "cell_type": "markdown",
      "source": [
        "### 缓存数据到工作环境"
      ]
    },
    {
      "metadata": {
        "id": "kV-gXaYL85vM",
        "colab_type": "code",
        "colab": {
          "base_uri": "https://localhost:8080/",
          "height": 34
        },
        "outputId": "f0640338-8fad-484a-81bb-25e8f9f1dbe7"
      },
      "cell_type": "code",
      "source": [
        "def cache_data():\n",
        "  # id 替换成上一步读取到的对应文件 id\n",
        "  health_txt = drive.CreateFile({'id': \"1JCAq9rdUD8OsKUtypp70b8gpFminTFmU\"}) \n",
        "  tech_txt = drive.CreateFile({'id': \"1YSqi5II82Fkb7bMAeHrhB_ogVcSvdnTs\"})\n",
        "  design_txt = drive.CreateFile({'id': \"1OS1BuBHxtJWSvcLiWnsdg1VzxjxokPH3\"})\n",
        "  #这里的下载操作只是缓存，不会在你的Google Drive 目录下多下载一个文件\n",
        "  \n",
        "  health_txt.GetContentFile('health.txt', \"text/plain\")\n",
        "  tech_txt.GetContentFile('tech.txt', \"text/plain\")\n",
        "  design_txt.GetContentFile('design.txt', \"text/plain\")\n",
        "  \n",
        "  print(\"缓存成功\")\n",
        "  \n",
        "cache_data()\n",
        "\n"
      ],
      "execution_count": 7,
      "outputs": [
        {
          "output_type": "stream",
          "text": [
            "缓存成功\n"
          ],
          "name": "stdout"
        }
      ]
    },
    {
      "metadata": {
        "id": "XXlGY3MlDfbT",
        "colab_type": "text"
      },
      "cell_type": "markdown",
      "source": [
        "### 读取工作环境数据"
      ]
    },
    {
      "metadata": {
        "id": "JlZGNAcU_IkJ",
        "colab_type": "code",
        "colab": {
          "base_uri": "https://localhost:8080/",
          "height": 84
        },
        "outputId": "7cf2ac20-b1c0-4ae3-df51-3f84a130eea8"
      },
      "cell_type": "code",
      "source": [
        "def load_data():\n",
        "    titles = []\n",
        "    print(\"正在加载健康类别的数据...\")\n",
        "    with open(\"health.txt\", \"r\") as f:\n",
        "        for line in f.readlines():\n",
        "            titles.append(line.strip())\n",
        "\n",
        "    print(\"正在加载科技类别的数据...\")\n",
        "    with open(\"tech.txt\", \"r\") as f:\n",
        "        for line in f.readlines():\n",
        "            titles.append(line.strip())\n",
        "\n",
        "\n",
        "    print(\"正在加载设计类别的数据...\")\n",
        "    with open(\"design.txt\", \"r\") as f:\n",
        "        for line in f.readlines():\n",
        "            titles.append(line.strip())\n",
        "\n",
        "    print(\"一共加载了 %s 个标题\" % len(titles))\n",
        "\n",
        "    return titles\n",
        "  \n",
        "titles = load_data()\n"
      ],
      "execution_count": 8,
      "outputs": [
        {
          "output_type": "stream",
          "text": [
            "正在加载健康类别的数据...\n",
            "正在加载科技类别的数据...\n",
            "正在加载设计类别的数据...\n",
            "一共加载了 31318 个标题\n"
          ],
          "name": "stdout"
        }
      ]
    },
    {
      "metadata": {
        "id": "4nz-bhdFDkf8",
        "colab_type": "text"
      },
      "cell_type": "markdown",
      "source": [
        "### 加载标签"
      ]
    },
    {
      "metadata": {
        "id": "qv8EU1hx_QxW",
        "colab_type": "code",
        "colab": {
          "base_uri": "https://localhost:8080/",
          "height": 34
        },
        "outputId": "281397ef-1663-407f-fadd-b3140558cef2"
      },
      "cell_type": "code",
      "source": [
        "def load_label():\n",
        "    arr0 = np.zeros(shape=[12000, ])\n",
        "    arr1 = np.ones(shape=[12000, ])\n",
        "    arr2 = np.array([2]).repeat(7318)\n",
        "    target = np.hstack([arr0, arr1, arr2])\n",
        "    print(\"一共加载了 %s 个标签\" % target.shape)\n",
        "\n",
        "    encoder = LabelEncoder()\n",
        "    encoder.fit(target)\n",
        "    encoded_target = encoder.transform(target)\n",
        "    dummy_target = krs.utils.np_utils.to_categorical(encoded_target)\n",
        "\n",
        "    return dummy_target\n",
        "  \n",
        "target = load_label()\n"
      ],
      "execution_count": 9,
      "outputs": [
        {
          "output_type": "stream",
          "text": [
            "一共加载了 31318 个标签\n"
          ],
          "name": "stdout"
        }
      ]
    },
    {
      "metadata": {
        "id": "v7qaaltVDpw6",
        "colab_type": "text"
      },
      "cell_type": "markdown",
      "source": [
        "## 文本预处理"
      ]
    },
    {
      "metadata": {
        "id": "4B2RJGXG_Vjo",
        "colab_type": "code",
        "colab": {}
      },
      "cell_type": "code",
      "source": [
        "max_sequence_length = 30\n",
        "embedding_size = 50\n",
        "\n",
        "# 标题分词\n",
        "titles = [\".\".join(jb.cut(t, cut_all=True)) for t in titles]\n",
        "\n",
        "# �word2vec 词袋化\n",
        "vocab_processor = tf.contrib.learn.preprocessing.VocabularyProcessor(max_sequence_length, min_frequency=1)\n",
        "text_processed = np.array(list(vocab_processor.fit_transform(titles)))\n",
        "\n",
        "# 读取词标签\n",
        "dict = vocab_processor.vocabulary_._mapping\n",
        "sorted_vocab = sorted(dict.items(), key = lambda x : x[1])\n"
      ],
      "execution_count": 0,
      "outputs": []
    },
    {
      "metadata": {
        "id": "SKtx3lguDuxL",
        "colab_type": "text"
      },
      "cell_type": "markdown",
      "source": [
        "## 构建神经网络"
      ]
    },
    {
      "metadata": {
        "id": "5B6p6Aax_aJX",
        "colab_type": "code",
        "colab": {
          "base_uri": "https://localhost:8080/",
          "height": 390
        },
        "outputId": "43844927-edf6-4ca1-ead7-d07d28511467"
      },
      "cell_type": "code",
      "source": [
        "# 配置网络结构\n",
        "def build_netword(num_vocabs):\n",
        "    # 配置网络结构\n",
        "    model = krs.Sequential()\n",
        "    model.add(krs.layers.Embedding(num_vocabs, embedding_size, input_length=max_sequence_length))\n",
        "    model.add(krs.layers.LSTM(32, dropout=0.2, recurrent_dropout=0.2))\n",
        "    model.add(krs.layers.Dense(3))\n",
        "    model.add(krs.layers.Activation(\"softmax\"))\n",
        "    model.compile(loss=\"categorical_crossentropy\", optimizer=\"adam\", metrics=[\"accuracy\"])\n",
        "\n",
        "    return model\n",
        "  \n",
        "num_vocabs = len(dict.items())\n",
        "model = build_netword(num_vocabs=num_vocabs)\n",
        "\n",
        "import time\n",
        "start = time.time()\n",
        "# 训练模型\n",
        "model.fit(text_processed, target, batch_size=512, epochs=10, )\n",
        "finish = time.time()\n",
        "print(\"Traning time %d s.\" % (finish - start))\n"
      ],
      "execution_count": 18,
      "outputs": [
        {
          "output_type": "stream",
          "text": [
            "Epoch 1/10\n",
            "31318/31318 [==============================] - 6s 199us/step - loss: 0.9805 - acc: 0.4480\n",
            "Epoch 2/10\n",
            "31318/31318 [==============================] - 5s 159us/step - loss: 0.6357 - acc: 0.6197\n",
            "Epoch 3/10\n",
            "31318/31318 [==============================] - 5s 159us/step - loss: 0.5140 - acc: 0.7585\n",
            "Epoch 4/10\n",
            "31318/31318 [==============================] - 5s 160us/step - loss: 0.2544 - acc: 0.9247\n",
            "Epoch 5/10\n",
            "31318/31318 [==============================] - 5s 160us/step - loss: 0.1648 - acc: 0.9548\n",
            "Epoch 6/10\n",
            " 5632/31318 [====>.........................] - ETA: 4s - loss: 0.1300 - acc: 0.9648"
          ],
          "name": "stdout"
        },
        {
          "output_type": "stream",
          "text": [
            "31318/31318 [==============================] - 5s 160us/step - loss: 0.1175 - acc: 0.9691\n",
            "Epoch 7/10\n",
            "31318/31318 [==============================] - 5s 159us/step - loss: 0.0875 - acc: 0.9779\n",
            "Epoch 8/10\n",
            "31318/31318 [==============================] - 5s 160us/step - loss: 0.0735 - acc: 0.9819\n",
            "Epoch 9/10\n",
            "31318/31318 [==============================] - 5s 161us/step - loss: 0.0573 - acc: 0.9866\n",
            "Epoch 10/10\n",
            "31318/31318 [==============================] - 5s 159us/step - loss: 0.0534 - acc: 0.9879\n",
            "Traning time 53 s.\n"
          ],
          "name": "stdout"
        }
      ]
    },
    {
      "metadata": {
        "id": "alIhOsjWDz_R",
        "colab_type": "text"
      },
      "cell_type": "markdown",
      "source": [
        "## 预测样本"
      ]
    },
    {
      "metadata": {
        "id": "xING0Ko__h0L",
        "colab_type": "code",
        "colab": {
          "base_uri": "https://localhost:8080/",
          "height": 34
        },
        "outputId": "f7438c94-1728-4fd8-aac0-1123201956f6"
      },
      "cell_type": "code",
      "source": [
        "#@title Default title text\n",
        "sen = \"# \\\\u5B89\\\\u88C5 PyDrive \\\\u64CD\\\\u4F5C\\\\u5E93\\\\uFF0C\\\\u8BE5\\\\u64CD\\\\u4F5C\\\\u6BCF\\\\u4E2A notebook \\\\u53EA\\\\u9700\\\\u8981\\\\u6267\\\\u884C\\\\u4E00\\\\u6B21\" #@param [\"# \\u5B89\\u88C5 PyDrive \\u64CD\\u4F5C\\u5E93\\uFF0C\\u8BE5\\u64CD\\u4F5C\\u6BCF\\u4E2A notebook \\u53EA\\u9700\\u8981\\u6267\\u884C\\u4E00\\u6B21\", \"\\u907F\\u514D\\u66B4\\u996E\\u66B4\\u98DF\\uFF0C\\u665A\\u4E0A\\u4E5D\\u70B9\\u4E4B\\u540E\\u4E5F\\u6700\\u597D\\u4E0D\\u8981\\u5403\\u96F6\\u98DF\\u3002\", \"\\u5403\\u65B9\\u4FBF\\u9762\\u7684\\u65F6\\u5019\\uFF0C\\u5148\\u7528\\u6E29\\u6C34\\u6765\\u6D17\\u51C0\\u65B9\\u4FBF\\u9762\\uFF0C\\u6405\\u62CC\\u540E\\u5012\\u6389\\u6709\\u8721\\u6D82\\u5C42\\u7684\\u6C34\\uFF0C\\u91CD\\u590D\\u540E\\u5728\\u7528\\u53E6\\u4E00\\u58F6\\u6C34\\u716E\\u9762\\uFF0C\\u56E0\\u4E3A\\u65B9\\u4FBF\\u9762\\u6709\\u4E00\\u5C42\\u8721\\u6D82\\u5C42\\uFF0C\\u5927\\u91CF\\u79EF\\u7D2F\\u5728\\u4F53\\u5185\\u4F1A\\u81F4\\u764C\", \"\\u706B\\u661F\\u79FB\\u6C11\\u8BA1\\u5212\\uFF08Mars migration program ;Mars immigrant plans \\uFF09\\u662F\\u7F8E\\u56FD\\u5B87\\u5B99\\u63A2\\u7D22\\u6280\\u672F\\u516C\\u53F8(SpaceX)\\u603B\\u88C1\\u517C\\u521B\\u59CB\\u4EBA\\u57C3\\u9686\\xB7\\u9A6C\\u65AF\\u514B\\u9996\\u6B21\\u5BF9\\u5A92\\u4F53\\u900F\\u9732\\u51FA\\u7684\\u3001\\u79FB\\u6C11\\u706B\\u661F\\u5E76\\u5728\\u706B\\u661F\\u5EFA\\u793E\\u533A\\u7684\\u8BA1\\u5212\\u3002\\u5177\\u4F53\\u662F\\u5426\\u53EF\\u884C\\u4EE5\\u53CA\\u706B\\u661F\\u6539\\u9020\\u8BA1\\u5212\\u3001\\u5173\\u4E8E\\u706B\\u661F\\u6863\\u6848\\u76F8\\u5173\\u5929\\u6587\\u5B66\\u8005\\u3001\\u79D1\\u5B66\\u5BB6\\u3001\\u5A92\\u4F53\\u7ED9\\u51FA\\u4E0D\\u540C\\u770B\\u6CD5\\u3002\"] {allow-input: true}\n",
        "#sen = \"做好商业设计需要学习的小技巧\"\n",
        "#sen = \"避免暴饮暴食，晚上九点之后也最好不要吃零食。\"\n",
        "#sen = \"吃方便面的时候，先用温水来洗净方便面，搅拌后倒掉有蜡涂层的水，重复后在用另一壶水煮面，因为方便面有一层蜡涂层，大量积累在体内会致癌\"\n",
        "#sen = \"火星移民计划（Mars migration program ;Mars immigrant plans ）是美国宇宙探索技术公司(SpaceX)总裁兼创始人埃隆·马斯克首次对媒体透露出的、移民火星并在火星建社区的计划。具体是否可行以及火星改造计划、关于火星档案相关天文学者、科学家、媒体给出不同看法。\"\n",
        "sen_prosessed = \" \".join(jb.cut(sen, cut_all=True))\n",
        "sen_prosessed = vocab_processor.transform([sen_prosessed])\n",
        "sen_prosessed = np.array(list(sen_prosessed))\n",
        "result = model.predict(sen_prosessed)\n",
        "\n",
        "catalogue = list(result[0]).index(max(result[0]))\n",
        "threshold=0.8\n",
        "if max(result[0]) > threshold:\n",
        "    if catalogue == 0:\n",
        "        print(\"这是一篇关于健康的文章\")\n",
        "    elif catalogue == 1:\n",
        "        print(\"这是一篇关于科技的文章\")\n",
        "    elif catalogue == 2:\n",
        "        print(\"这是一篇关于设计的文章\")\n",
        "    else:\n",
        "        print(\"这篇文章没有可信分类\")\n"
      ],
      "execution_count": 19,
      "outputs": [
        {
          "output_type": "stream",
          "text": [
            "这是一篇关于科技的文章\n"
          ],
          "name": "stdout"
        }
      ]
    },
    {
      "metadata": {
        "id": "y-yl5Jvl_7xC",
        "colab_type": "code",
        "colab": {}
      },
      "cell_type": "code",
      "source": [
        ""
      ],
      "execution_count": 0,
      "outputs": []
    }
  ]
}